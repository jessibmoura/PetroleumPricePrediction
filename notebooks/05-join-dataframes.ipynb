{
 "cells": [
  {
   "cell_type": "code",
   "execution_count": 21,
   "metadata": {},
   "outputs": [],
   "source": [
    "import pandas as pd"
   ]
  },
  {
   "cell_type": "code",
   "execution_count": 22,
   "metadata": {},
   "outputs": [],
   "source": [
    "brent_petroleum = pd.read_csv(\"..\\\\data\\\\processed\\\\petroleum_price.csv\")\n",
    "opec = pd.read_csv(\"..\\\\data\\\\processed\\\\opec_price.csv\")"
   ]
  },
  {
   "cell_type": "code",
   "execution_count": 23,
   "metadata": {},
   "outputs": [
    {
     "data": {
      "text/html": [
       "<div>\n",
       "<style scoped>\n",
       "    .dataframe tbody tr th:only-of-type {\n",
       "        vertical-align: middle;\n",
       "    }\n",
       "\n",
       "    .dataframe tbody tr th {\n",
       "        vertical-align: top;\n",
       "    }\n",
       "\n",
       "    .dataframe thead th {\n",
       "        text-align: right;\n",
       "    }\n",
       "</style>\n",
       "<table border=\"1\" class=\"dataframe\">\n",
       "  <thead>\n",
       "    <tr style=\"text-align: right;\">\n",
       "      <th></th>\n",
       "      <th>id</th>\n",
       "      <th>date</th>\n",
       "      <th>price</th>\n",
       "    </tr>\n",
       "  </thead>\n",
       "  <tbody>\n",
       "    <tr>\n",
       "      <th>0</th>\n",
       "      <td>Europe Brent Spot Price FOB (Dollars per Barrel)</td>\n",
       "      <td>2023-12-29</td>\n",
       "      <td>77.69</td>\n",
       "    </tr>\n",
       "    <tr>\n",
       "      <th>1</th>\n",
       "      <td>Europe Brent Spot Price FOB (Dollars per Barrel)</td>\n",
       "      <td>2023-12-28</td>\n",
       "      <td>79.04</td>\n",
       "    </tr>\n",
       "    <tr>\n",
       "      <th>2</th>\n",
       "      <td>Europe Brent Spot Price FOB (Dollars per Barrel)</td>\n",
       "      <td>2023-12-27</td>\n",
       "      <td>80.97</td>\n",
       "    </tr>\n",
       "    <tr>\n",
       "      <th>3</th>\n",
       "      <td>Europe Brent Spot Price FOB (Dollars per Barrel)</td>\n",
       "      <td>2023-12-22</td>\n",
       "      <td>80.23</td>\n",
       "    </tr>\n",
       "    <tr>\n",
       "      <th>4</th>\n",
       "      <td>Europe Brent Spot Price FOB (Dollars per Barrel)</td>\n",
       "      <td>2023-12-21</td>\n",
       "      <td>80.73</td>\n",
       "    </tr>\n",
       "  </tbody>\n",
       "</table>\n",
       "</div>"
      ],
      "text/plain": [
       "                                                 id        date  price\n",
       "0  Europe Brent Spot Price FOB (Dollars per Barrel)  2023-12-29  77.69\n",
       "1  Europe Brent Spot Price FOB (Dollars per Barrel)  2023-12-28  79.04\n",
       "2  Europe Brent Spot Price FOB (Dollars per Barrel)  2023-12-27  80.97\n",
       "3  Europe Brent Spot Price FOB (Dollars per Barrel)  2023-12-22  80.23\n",
       "4  Europe Brent Spot Price FOB (Dollars per Barrel)  2023-12-21  80.73"
      ]
     },
     "execution_count": 23,
     "metadata": {},
     "output_type": "execute_result"
    }
   ],
   "source": [
    "brent_petroleum.head()"
   ]
  },
  {
   "cell_type": "code",
   "execution_count": 24,
   "metadata": {},
   "outputs": [
    {
     "data": {
      "text/html": [
       "<div>\n",
       "<style scoped>\n",
       "    .dataframe tbody tr th:only-of-type {\n",
       "        vertical-align: middle;\n",
       "    }\n",
       "\n",
       "    .dataframe tbody tr th {\n",
       "        vertical-align: top;\n",
       "    }\n",
       "\n",
       "    .dataframe thead th {\n",
       "        text-align: right;\n",
       "    }\n",
       "</style>\n",
       "<table border=\"1\" class=\"dataframe\">\n",
       "  <thead>\n",
       "    <tr style=\"text-align: right;\">\n",
       "      <th></th>\n",
       "      <th>date</th>\n",
       "      <th>opec_price</th>\n",
       "    </tr>\n",
       "  </thead>\n",
       "  <tbody>\n",
       "    <tr>\n",
       "      <th>0</th>\n",
       "      <td>2003-01-02</td>\n",
       "      <td>30.05</td>\n",
       "    </tr>\n",
       "    <tr>\n",
       "      <th>1</th>\n",
       "      <td>2003-01-03</td>\n",
       "      <td>30.83</td>\n",
       "    </tr>\n",
       "    <tr>\n",
       "      <th>2</th>\n",
       "      <td>2003-01-06</td>\n",
       "      <td>30.71</td>\n",
       "    </tr>\n",
       "    <tr>\n",
       "      <th>3</th>\n",
       "      <td>2003-01-07</td>\n",
       "      <td>29.72</td>\n",
       "    </tr>\n",
       "    <tr>\n",
       "      <th>4</th>\n",
       "      <td>2003-01-08</td>\n",
       "      <td>28.86</td>\n",
       "    </tr>\n",
       "  </tbody>\n",
       "</table>\n",
       "</div>"
      ],
      "text/plain": [
       "         date  opec_price\n",
       "0  2003-01-02       30.05\n",
       "1  2003-01-03       30.83\n",
       "2  2003-01-06       30.71\n",
       "3  2003-01-07       29.72\n",
       "4  2003-01-08       28.86"
      ]
     },
     "execution_count": 24,
     "metadata": {},
     "output_type": "execute_result"
    }
   ],
   "source": [
    "opec.drop(columns=['id'],inplace=True)\n",
    "opec.head()"
   ]
  },
  {
   "cell_type": "code",
   "execution_count": 25,
   "metadata": {},
   "outputs": [],
   "source": [
    "result = pd.merge(brent_petroleum, opec, on='date', how='left')"
   ]
  },
  {
   "cell_type": "code",
   "execution_count": 26,
   "metadata": {},
   "outputs": [
    {
     "data": {
      "text/html": [
       "<div>\n",
       "<style scoped>\n",
       "    .dataframe tbody tr th:only-of-type {\n",
       "        vertical-align: middle;\n",
       "    }\n",
       "\n",
       "    .dataframe tbody tr th {\n",
       "        vertical-align: top;\n",
       "    }\n",
       "\n",
       "    .dataframe thead th {\n",
       "        text-align: right;\n",
       "    }\n",
       "</style>\n",
       "<table border=\"1\" class=\"dataframe\">\n",
       "  <thead>\n",
       "    <tr style=\"text-align: right;\">\n",
       "      <th></th>\n",
       "      <th>id</th>\n",
       "      <th>date</th>\n",
       "      <th>price</th>\n",
       "      <th>opec_price</th>\n",
       "    </tr>\n",
       "  </thead>\n",
       "  <tbody>\n",
       "    <tr>\n",
       "      <th>0</th>\n",
       "      <td>Europe Brent Spot Price FOB (Dollars per Barrel)</td>\n",
       "      <td>2023-12-29</td>\n",
       "      <td>77.69</td>\n",
       "      <td>78.44</td>\n",
       "    </tr>\n",
       "    <tr>\n",
       "      <th>1</th>\n",
       "      <td>Europe Brent Spot Price FOB (Dollars per Barrel)</td>\n",
       "      <td>2023-12-28</td>\n",
       "      <td>79.04</td>\n",
       "      <td>80.31</td>\n",
       "    </tr>\n",
       "    <tr>\n",
       "      <th>2</th>\n",
       "      <td>Europe Brent Spot Price FOB (Dollars per Barrel)</td>\n",
       "      <td>2023-12-27</td>\n",
       "      <td>80.97</td>\n",
       "      <td>81.82</td>\n",
       "    </tr>\n",
       "    <tr>\n",
       "      <th>3</th>\n",
       "      <td>Europe Brent Spot Price FOB (Dollars per Barrel)</td>\n",
       "      <td>2023-12-22</td>\n",
       "      <td>80.23</td>\n",
       "      <td>81.23</td>\n",
       "    </tr>\n",
       "    <tr>\n",
       "      <th>4</th>\n",
       "      <td>Europe Brent Spot Price FOB (Dollars per Barrel)</td>\n",
       "      <td>2023-12-21</td>\n",
       "      <td>80.73</td>\n",
       "      <td>80.84</td>\n",
       "    </tr>\n",
       "    <tr>\n",
       "      <th>...</th>\n",
       "      <td>...</td>\n",
       "      <td>...</td>\n",
       "      <td>...</td>\n",
       "      <td>...</td>\n",
       "    </tr>\n",
       "    <tr>\n",
       "      <th>748</th>\n",
       "      <td>Europe Brent Spot Price FOB (Dollars per Barrel)</td>\n",
       "      <td>2021-01-08</td>\n",
       "      <td>55.51</td>\n",
       "      <td>54.39</td>\n",
       "    </tr>\n",
       "    <tr>\n",
       "      <th>749</th>\n",
       "      <td>Europe Brent Spot Price FOB (Dollars per Barrel)</td>\n",
       "      <td>2021-01-07</td>\n",
       "      <td>53.70</td>\n",
       "      <td>53.84</td>\n",
       "    </tr>\n",
       "    <tr>\n",
       "      <th>750</th>\n",
       "      <td>Europe Brent Spot Price FOB (Dollars per Barrel)</td>\n",
       "      <td>2021-01-06</td>\n",
       "      <td>53.80</td>\n",
       "      <td>53.29</td>\n",
       "    </tr>\n",
       "    <tr>\n",
       "      <th>751</th>\n",
       "      <td>Europe Brent Spot Price FOB (Dollars per Barrel)</td>\n",
       "      <td>2021-01-05</td>\n",
       "      <td>53.16</td>\n",
       "      <td>50.75</td>\n",
       "    </tr>\n",
       "    <tr>\n",
       "      <th>752</th>\n",
       "      <td>Europe Brent Spot Price FOB (Dollars per Barrel)</td>\n",
       "      <td>2021-01-04</td>\n",
       "      <td>50.37</td>\n",
       "      <td>51.35</td>\n",
       "    </tr>\n",
       "  </tbody>\n",
       "</table>\n",
       "<p>753 rows × 4 columns</p>\n",
       "</div>"
      ],
      "text/plain": [
       "                                                   id        date  price  \\\n",
       "0    Europe Brent Spot Price FOB (Dollars per Barrel)  2023-12-29  77.69   \n",
       "1    Europe Brent Spot Price FOB (Dollars per Barrel)  2023-12-28  79.04   \n",
       "2    Europe Brent Spot Price FOB (Dollars per Barrel)  2023-12-27  80.97   \n",
       "3    Europe Brent Spot Price FOB (Dollars per Barrel)  2023-12-22  80.23   \n",
       "4    Europe Brent Spot Price FOB (Dollars per Barrel)  2023-12-21  80.73   \n",
       "..                                                ...         ...    ...   \n",
       "748  Europe Brent Spot Price FOB (Dollars per Barrel)  2021-01-08  55.51   \n",
       "749  Europe Brent Spot Price FOB (Dollars per Barrel)  2021-01-07  53.70   \n",
       "750  Europe Brent Spot Price FOB (Dollars per Barrel)  2021-01-06  53.80   \n",
       "751  Europe Brent Spot Price FOB (Dollars per Barrel)  2021-01-05  53.16   \n",
       "752  Europe Brent Spot Price FOB (Dollars per Barrel)  2021-01-04  50.37   \n",
       "\n",
       "     opec_price  \n",
       "0         78.44  \n",
       "1         80.31  \n",
       "2         81.82  \n",
       "3         81.23  \n",
       "4         80.84  \n",
       "..          ...  \n",
       "748       54.39  \n",
       "749       53.84  \n",
       "750       53.29  \n",
       "751       50.75  \n",
       "752       51.35  \n",
       "\n",
       "[753 rows x 4 columns]"
      ]
     },
     "execution_count": 26,
     "metadata": {},
     "output_type": "execute_result"
    }
   ],
   "source": [
    "result"
   ]
  },
  {
   "cell_type": "code",
   "execution_count": 27,
   "metadata": {},
   "outputs": [
    {
     "data": {
      "text/plain": [
       "id            0\n",
       "date          0\n",
       "price         0\n",
       "opec_price    0\n",
       "dtype: int64"
      ]
     },
     "execution_count": 27,
     "metadata": {},
     "output_type": "execute_result"
    }
   ],
   "source": [
    "result.isna().sum()"
   ]
  },
  {
   "cell_type": "code",
   "execution_count": 28,
   "metadata": {},
   "outputs": [],
   "source": [
    "result.to_csv(\"../data/processed/petroleum_price_ext.csv\", index=False)"
   ]
  }
 ],
 "metadata": {
  "kernelspec": {
   "display_name": ".venv",
   "language": "python",
   "name": "python3"
  },
  "language_info": {
   "codemirror_mode": {
    "name": "ipython",
    "version": 3
   },
   "file_extension": ".py",
   "mimetype": "text/x-python",
   "name": "python",
   "nbconvert_exporter": "python",
   "pygments_lexer": "ipython3",
   "version": "3.12.0"
  }
 },
 "nbformat": 4,
 "nbformat_minor": 2
}
