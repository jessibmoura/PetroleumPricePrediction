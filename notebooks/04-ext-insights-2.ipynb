{
 "cells": [
  {
   "cell_type": "markdown",
   "metadata": {},
   "source": [
    "## OPEC Basket Price\n",
    "\n",
    "URL link to get the data: https://www.opec.org/opec_web/en/data_graphs/40.htm"
   ]
  },
  {
   "cell_type": "code",
   "execution_count": 29,
   "metadata": {},
   "outputs": [],
   "source": [
    "import requests\n",
    "import pandas as pd\n",
    "import xml.etree.ElementTree as ET"
   ]
  },
  {
   "cell_type": "code",
   "execution_count": 30,
   "metadata": {},
   "outputs": [],
   "source": [
    "file_path = \"../data/raw/basketDayArchives.xml\""
   ]
  },
  {
   "cell_type": "code",
   "execution_count": 31,
   "metadata": {},
   "outputs": [],
   "source": [
    "tree = ET.parse(file_path)\n",
    "root = tree.getroot()"
   ]
  },
  {
   "cell_type": "code",
   "execution_count": 32,
   "metadata": {},
   "outputs": [],
   "source": [
    "namespace = {\"ns\": \"http://tempuri.org/basketDayArchives.xsd\"}\n",
    "\n",
    "data = []\n",
    "for basket in root.findall(\"ns:BasketList\", namespace):\n",
    "    date = basket.get(\"data\")  # Get 'data'\n",
    "    value = basket.get(\"val\")  # Get 'val'\n",
    "    data.append({\"id\": \"OPEC Basket Price\",\"date\": date, \"opec_price\": float(value)})"
   ]
  },
  {
   "cell_type": "code",
   "execution_count": 33,
   "metadata": {},
   "outputs": [],
   "source": [
    "df = pd.DataFrame(data)\n",
    "df[\"date\"] = pd.to_datetime(df[\"date\"])"
   ]
  },
  {
   "cell_type": "code",
   "execution_count": 34,
   "metadata": {},
   "outputs": [
    {
     "name": "stdout",
     "output_type": "stream",
     "text": [
      "                     id       date  opec_price\n",
      "0     OPEC Basket Price 2003-01-02       30.05\n",
      "1     OPEC Basket Price 2003-01-03       30.83\n",
      "2     OPEC Basket Price 2003-01-06       30.71\n",
      "3     OPEC Basket Price 2003-01-07       29.72\n",
      "4     OPEC Basket Price 2003-01-08       28.86\n",
      "...                 ...        ...         ...\n",
      "5643  OPEC Basket Price 2024-11-18       71.20\n",
      "5644  OPEC Basket Price 2024-11-19       72.56\n",
      "5645  OPEC Basket Price 2024-11-20       73.05\n",
      "5646  OPEC Basket Price 2024-11-21       73.32\n",
      "5647  OPEC Basket Price 2024-11-22       74.43\n",
      "\n",
      "[5648 rows x 3 columns]\n"
     ]
    }
   ],
   "source": [
    "print(df)"
   ]
  },
  {
   "cell_type": "code",
   "execution_count": 35,
   "metadata": {},
   "outputs": [],
   "source": [
    "df.to_csv(\"../data/processed/opec_price.csv\", index=False)"
   ]
  }
 ],
 "metadata": {
  "kernelspec": {
   "display_name": ".venv",
   "language": "python",
   "name": "python3"
  },
  "language_info": {
   "codemirror_mode": {
    "name": "ipython",
    "version": 3
   },
   "file_extension": ".py",
   "mimetype": "text/x-python",
   "name": "python",
   "nbconvert_exporter": "python",
   "pygments_lexer": "ipython3",
   "version": "3.12.3"
  }
 },
 "nbformat": 4,
 "nbformat_minor": 2
}
